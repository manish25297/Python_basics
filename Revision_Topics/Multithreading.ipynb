{
 "cells": [
  {
   "cell_type": "markdown",
   "id": "de3205c3",
   "metadata": {},
   "source": [
    "# Multithreading "
   ]
  },
  {
   "cell_type": "markdown",
   "id": "5d97a56b",
   "metadata": {},
   "source": [
    "### Simple threading Example"
   ]
  },
  {
   "cell_type": "code",
   "execution_count": 10,
   "id": "d8039593",
   "metadata": {},
   "outputs": [
    {
     "name": "stdout",
     "output_type": "stream",
     "text": [
      "hello\n"
     ]
    }
   ],
   "source": [
    "import threading\n",
    "\n",
    "def example():\n",
    "    print(\"hello\")\n",
    "    \n",
    "my_thread = threading.Thread(target=example)\n",
    "my_thread.start()"
   ]
  },
  {
   "cell_type": "code",
   "execution_count": 16,
   "id": "f81d837a",
   "metadata": {},
   "outputs": [
    {
     "name": "stdout",
     "output_type": "stream",
     "text": [
      "hello manish\n"
     ]
    }
   ],
   "source": [
    "import threading\n",
    "\n",
    "def example(name):\n",
    "    print(\"hello\",name)\n",
    "    \n",
    "    \n",
    "my_thread = threading.Thread(target=example,args=(\"manish\",))\n",
    "my_thread.start()"
   ]
  },
  {
   "cell_type": "markdown",
   "id": "87149023",
   "metadata": {},
   "source": [
    "###  thread.join()\n",
    "\n",
    "We can optionally call join() on the thread to wait for it to finish executing before continuing with the main thread's execution."
   ]
  },
  {
   "cell_type": "code",
   "execution_count": 7,
   "id": "c5e78196",
   "metadata": {},
   "outputs": [
    {
     "name": "stdout",
     "output_type": "stream",
     "text": [
      "hellohello2\n",
      "\n",
      "hello\n"
     ]
    }
   ],
   "source": [
    "import threading\n",
    "import time\n",
    "\n",
    "def example():\n",
    "    print(\"hello\")\n",
    "    time.sleep(1)\n",
    "    print(\"hello\")\n",
    "    \n",
    "\n",
    "my_thread = threading.Thread(target=example)\n",
    "my_thread.start()\n",
    "\n",
    "print(\"hello2\")"
   ]
  },
  {
   "cell_type": "code",
   "execution_count": 9,
   "id": "a1b81da8",
   "metadata": {},
   "outputs": [
    {
     "name": "stdout",
     "output_type": "stream",
     "text": [
      "hello\n",
      "hello\n",
      "hello2\n"
     ]
    }
   ],
   "source": [
    "import threading\n",
    "import time\n",
    "\n",
    "def example():\n",
    "    print(\"hello\")\n",
    "    time.sleep(1)\n",
    "    print(\"hello\")\n",
    "    \n",
    "\n",
    "my_thread = threading.Thread(target=example)\n",
    "my_thread.start()\n",
    "my_thread.join()\n",
    "\n",
    "print(\"hello2\")"
   ]
  },
  {
   "cell_type": "code",
   "execution_count": null,
   "id": "6e1c0b26",
   "metadata": {},
   "outputs": [],
   "source": []
  }
 ],
 "metadata": {
  "kernelspec": {
   "display_name": "Python 3 (ipykernel)",
   "language": "python",
   "name": "python3"
  },
  "language_info": {
   "codemirror_mode": {
    "name": "ipython",
    "version": 3
   },
   "file_extension": ".py",
   "mimetype": "text/x-python",
   "name": "python",
   "nbconvert_exporter": "python",
   "pygments_lexer": "ipython3",
   "version": "3.10.11"
  }
 },
 "nbformat": 4,
 "nbformat_minor": 5
}
