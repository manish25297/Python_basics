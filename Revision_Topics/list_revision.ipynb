{
 "cells": [
  {
   "cell_type": "code",
   "execution_count": 57,
   "id": "c573cc3d",
   "metadata": {},
   "outputs": [],
   "source": [
    "# list\n",
    "\n",
    "###### max(l) -> returns the max from the list  \n",
    "###### min(l) -> returns the min from the list  \n",
    "###### sum(l) -> returns the sum of all the elements  \n",
    "###### len(l) -> returns the length of the list  \n",
    "\n",
    "###### l.index(\"a\") -> returns the index value of the element  \n",
    "###### l.count(\"a\") -> returns the count of a in the list  \n",
    "\n",
    "###### l.append(\"f\") -> add the element at the end in the list  \n",
    "###### l.remove(\"a\") -> remove the element a from the list  \n",
    "###### l.pop(index_pos) -> pop out the element of the given index position  \n",
    "###### l.insert(3,\"d\") -> insert the element at the position  \n",
    "###### l.clear() -> clear all the elements of the list  \n",
    "\n",
    "###### l.sort() -> sort in ascending order\n",
    "###### l.sort( reverse=True) -> sort in descending order\n",
    "###### l1.extend(l2) -> extend l1 by adding elements of l2\n"
   ]
  },
  {
   "cell_type": "code",
   "execution_count": 74,
   "id": "3798f300",
   "metadata": {},
   "outputs": [
    {
     "name": "stdout",
     "output_type": "stream",
     "text": [
      "min: a\n",
      "max: f\n",
      "len: 6\n"
     ]
    }
   ],
   "source": [
    "l=[\"a\",\"b\",\"c\",\"d\",\"e\",\"f\"]\n",
    "\n",
    "print(\"min:\",min(l))\n",
    "print(\"max:\",max(l))\n",
    "print(\"len:\",len(l))"
   ]
  },
  {
   "cell_type": "code",
   "execution_count": 75,
   "id": "4bdb3dc5",
   "metadata": {},
   "outputs": [
    {
     "name": "stdout",
     "output_type": "stream",
     "text": [
      "[0, 1, 2, 3, 4]\n",
      "min: 0\n",
      "max: 4\n",
      "len: 5\n",
      "sum: 10\n"
     ]
    }
   ],
   "source": [
    "l2=[x for x in range(5)]\n",
    "print(l2)\n",
    "\n",
    "print(\"min:\",min(l2))\n",
    "print(\"max:\",max(l2))\n",
    "print(\"len:\",len(l2))\n",
    "print(\"sum:\",sum(l2))"
   ]
  },
  {
   "cell_type": "code",
   "execution_count": 118,
   "id": "367ca763",
   "metadata": {},
   "outputs": [
    {
     "name": "stdout",
     "output_type": "stream",
     "text": [
      "l - ['a', 'b', 'c', 'd', 'e', 'f']\n",
      "\n",
      "l.append(\"a\") - ['a', 'b', 'c', 'd', 'e', 'f', 'a']\n",
      "l.remove(\"a\") - ['b', 'c', 'd', 'e', 'f', 'a']\n",
      "l.count(\"a\") - 1\n",
      "l.index(\"a\") - 5\n",
      "l.pop(\"5\") - ['b', 'c', 'd', 'e', 'f']\n",
      "l.insert(0,\"a\") - ['a', 'b', 'c', 'd', 'e', 'f']\n",
      "l.sort( reverse=True) - ['f', 'e', 'd', 'c', 'b', 'a']\n",
      "l.sort() - ['a', 'b', 'c', 'd', 'e', 'f']\n",
      "\n",
      "l2 - [1, 2, 3, 4, 5]\n"
     ]
    }
   ],
   "source": [
    "l=[\"a\",\"b\",\"c\",\"d\",\"e\",\"f\"]\n",
    "print('l -',l)\n",
    "\n",
    "l.append(\"a\")\n",
    "print('\\nl.append(\"a\") -',l)\n",
    "\n",
    "l.remove(\"a\")\n",
    "print('l.remove(\"a\") -',l)\n",
    "\n",
    "count= l.count(\"a\")\n",
    "print('l.count(\"a\") -',count)\n",
    "\n",
    "index = l.index(\"a\")\n",
    "print('l.index(\"a\") -',index)\n",
    "\n",
    "l.pop(index)\n",
    "print('l.pop(\"5\") -',l)\n",
    "\n",
    "l.insert(0,\"a\")\n",
    "print('l.insert(0,\"a\") -',l)\n",
    "\n",
    "l.sort( reverse=True)\n",
    "print('l.sort( reverse=True) -',l)\n",
    "\n",
    "l.sort()\n",
    "print('l.sort() -',l)\n",
    "\n",
    "l2 =[1,2,3,4,5]\n",
    "print('\\nl2 -',l2)\n",
    "\n"
   ]
  },
  {
   "cell_type": "code",
   "execution_count": 119,
   "id": "8ec41903",
   "metadata": {},
   "outputs": [
    {
     "name": "stdout",
     "output_type": "stream",
     "text": [
      "l.extend(l2) - ['a', 'b', 'c', 'd', 'e', 'f', 1, 2, 3, 4, 5]\n"
     ]
    }
   ],
   "source": [
    "l.extend(l2)\n",
    "print('l.extend(l2) -',l)"
   ]
  },
  {
   "cell_type": "code",
   "execution_count": 120,
   "id": "77c4f62f",
   "metadata": {},
   "outputs": [
    {
     "data": {
      "text/plain": [
       "5"
      ]
     },
     "execution_count": 120,
     "metadata": {},
     "output_type": "execute_result"
    }
   ],
   "source": [
    "l[-1]"
   ]
  },
  {
   "cell_type": "code",
   "execution_count": null,
   "id": "7049f4e8",
   "metadata": {},
   "outputs": [],
   "source": []
  }
 ],
 "metadata": {
  "kernelspec": {
   "display_name": "Python 3 (ipykernel)",
   "language": "python",
   "name": "python3"
  },
  "language_info": {
   "codemirror_mode": {
    "name": "ipython",
    "version": 3
   },
   "file_extension": ".py",
   "mimetype": "text/x-python",
   "name": "python",
   "nbconvert_exporter": "python",
   "pygments_lexer": "ipython3",
   "version": "3.10.11"
  }
 },
 "nbformat": 4,
 "nbformat_minor": 5
}
